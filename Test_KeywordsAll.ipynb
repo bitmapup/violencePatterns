{
 "cells": [
  {
   "cell_type": "markdown",
   "metadata": {},
   "source": [
    "# Similaridad coseno ENTRE A, A', LDA, LSA"
   ]
  },
  {
   "cell_type": "code",
   "execution_count": null,
   "metadata": {},
   "outputs": [],
   "source": [
    "from sklearn.feature_extraction.text import TfidfVectorizer\n",
    "documents=(listaA,listaA_,listaLDA,listaLSA)\n",
    "tfidf_vectorizer = TfidfVectorizer()\n",
    "tfidf_matrix = tfidf_vectorizer.fit_transform(documents)\n",
    "from sklearn.metrics.pairwise import cosine_similarity\n",
    "similar_results=cosine_similarity(tfidf_matrix[0:1], tfidf_matrix)\n",
    "print(similar_results)"
   ]
  },
  {
   "cell_type": "markdown",
   "metadata": {},
   "source": [
    "# Construir los Bag of Words"
   ]
  },
  {
   "cell_type": "code",
   "execution_count": null,
   "metadata": {},
   "outputs": [],
   "source": [
    "from sklearn.feature_extraction.text import CountVectorizer\n",
    "\n",
    "#Bag of words((BOW) en los 4 escenarios para la pregunta 1\n",
    "CV=CountVectorizer()\n",
    "BCV=CV.fit_transform(corpus1SLCV).toarray()\n",
    "\n",
    "CV2=CountVectorizer()\n",
    "BCV2=CV2.fit_transform(corpus1SLSV).toarray()\n",
    "\n",
    "CV3=CountVectorizer()\n",
    "BCV3=CV3.fit_transform(corpus1CLSV).toarray()\n",
    "\n",
    "CV4=CountVectorizer()\n",
    "BCV4=CV4.fit_transform(corpus1CLCV).toarray()\n",
    "\n",
    "#dataframes de los BOW para graficar\n",
    "data1SCV=[]\n",
    "for i in range(0,len(BCV)):\n",
    "    data1SCV.append([sum(BCV[0:1000][::,i])])\n",
    "    data1SCV.sort()\n",
    "    dfw1SCV = pd.DataFrame(data1SCV)  \n",
    "\n",
    "data2SCV=[]\n",
    "for i in range(0,len(BCV2)):\n",
    "    data2SCV.append([sum(BCV2[0:1000][::,i])])\n",
    "    data2SCV.sort()\n",
    "    dfw2SCV = pd.DataFrame(data2SCV) \n",
    "    \n",
    "data3SCV=[]\n",
    "for i in range(0,len(BCV3)):\n",
    "    data3SCV.append([sum(BCV3[0:1000][::,i])])\n",
    "    data3SCV.sort()\n",
    "    dfw3SCV = pd.DataFrame(data3SCV) \n",
    "    \n",
    "data4SCV=[]\n",
    "for i in range(0,len(BCV4)):\n",
    "    data4SCV.append([sum(BCV4[0:1000][::,i])])\n",
    "    data4SCV.sort()\n",
    "    dfw4SCV = pd.DataFrame(data4SCV) \n"
   ]
  },
  {
   "cell_type": "markdown",
   "metadata": {},
   "source": [
    "# Graficas BOW para la pregunta 1 en todos los escenarios"
   ]
  },
  {
   "cell_type": "code",
   "execution_count": null,
   "metadata": {},
   "outputs": [],
   "source": [
    "plt.plot(dfw1SCV,linestyle='--',label=\"SLSV\")\n",
    "plt.plot(dfw2SCV,linestyle='-',label=\"SLCV\")\n",
    "plt.plot(dfw3SCV,linestyle='--',label=\"CLSV\")\n",
    "plt.plot(dfw4SCV,linestyle='-',label=\"CLCV\")\n",
    "\n",
    "plt.legend(loc=\"upper left\")\n",
    "plt.title(\"Bag of Word with misspelling words in Question 1\")\n",
    "plt.ylabel(\"Frecuency of word\")\n",
    "plt.xlabel(\"Id of Words\")\n",
    "plt.grid(True)\n",
    "plt.show()"
   ]
  }
 ],
 "metadata": {
  "kernelspec": {
   "display_name": "Python 3",
   "language": "python",
   "name": "python3"
  },
  "language_info": {
   "codemirror_mode": {
    "name": "ipython",
    "version": 3
   },
   "file_extension": ".py",
   "mimetype": "text/x-python",
   "name": "python",
   "nbconvert_exporter": "python",
   "pygments_lexer": "ipython3",
   "version": "3.6.4"
  }
 },
 "nbformat": 4,
 "nbformat_minor": 2
}
